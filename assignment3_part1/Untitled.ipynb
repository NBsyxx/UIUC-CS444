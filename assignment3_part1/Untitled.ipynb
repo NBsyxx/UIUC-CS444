{
 "cells": [
  {
   "cell_type": "code",
   "execution_count": 1,
   "id": "5570645a",
   "metadata": {},
   "outputs": [],
   "source": [
    "import os\n",
    "import gc\n",
    "import cv2\n",
    "import math\n",
    "import copy\n",
    "import time\n",
    "import random\n",
    "\n",
    "# For data manipulation\n",
    "import numpy as np\n",
    "import pandas as pd\n",
    "\n",
    "# Pytorch Imports\n",
    "import torch\n",
    "import torch.nn as nn\n",
    "import torch.optim as optim\n",
    "import torch.nn.functional as F\n",
    "from torch.optim import lr_scheduler\n",
    "from torch.utils.data import Dataset, DataLoader\n",
    "from torch.cuda import amp\n",
    "\n",
    "# Utils\n",
    "import joblib\n",
    "from tqdm import tqdm\n",
    "from collections import defaultdict\n",
    "\n",
    "# Sklearn Imports\n",
    "from sklearn.preprocessing import LabelEncoder\n",
    "from sklearn.model_selection import StratifiedKFold\n",
    "from sklearn.metrics import average_precision_score\n",
    "\n",
    "# For Image Models\n",
    "import timm\n",
    "\n",
    "# Albumentations for augmentations\n",
    "import albumentations as A\n",
    "from albumentations.pytorch import ToTensorV2\n",
    "\n",
    "# For colored terminal text\n",
    "# from colorama import Fore, Back, Style\n",
    "# b_ = Fore.BLUE\n",
    "# sr_ = Style.RESET_ALL\n",
    "\n",
    "import warnings\n",
    "warnings.filterwarnings(\"ignore\")\n",
    "\n",
    "# For descriptive error messages\n",
    "# os.environ['CUDA_LAUNCH_BLOCKING'] = \"1\""
   ]
  },
  {
   "cell_type": "code",
   "execution_count": 2,
   "id": "f10a397c",
   "metadata": {},
   "outputs": [],
   "source": [
    "import numpy as np\n",
    "import pandas as pd\n",
    "import cv2\n",
    "import matplotlib.pyplot as plt\n",
    "import seaborn as sns\n",
    "import albumentations as alb\n",
    "import os\n",
    "from IPython.display import display, HTML\n",
    "from tqdm.notebook import tqdm\n",
    "import plotly.express as px\n",
    "\n",
    "\n",
    "# training modules\n",
    "import torchvision\n",
    "import torch\n",
    "import torch.nn as nn\n",
    "import torch.optim as optim\n",
    "import torch.nn.functional as F\n",
    "from torch.optim import lr_scheduler\n",
    "from torch.utils.data import Dataset, DataLoader\n",
    "from torch.cuda import amp\n",
    "from torch.utils.data import Dataset\n",
    "from sklearn import preprocessing\n",
    "\n",
    "\n",
    "import timm\n",
    "import math\n",
    "\n",
    "import warnings\n",
    "warnings.filterwarnings('ignore')"
   ]
  },
  {
   "cell_type": "code",
   "execution_count": 3,
   "id": "909bf632",
   "metadata": {},
   "outputs": [
    {
     "name": "stdout",
     "output_type": "stream",
     "text": [
      "None\n"
     ]
    }
   ],
   "source": [
    "import torch\n",
    "print(torch.version.cuda)"
   ]
  },
  {
   "cell_type": "code",
   "execution_count": 4,
   "id": "f21cfbaf",
   "metadata": {},
   "outputs": [],
   "source": [
    "ROOT_DIR = 'C:/Users/Nbsyxx/Desktop/Dophin'\n",
    "TRAIN_DIR = 'C:/Users/Nbsyxx/Desktop/Dophin/input/happy-whale-and-dolphin/train_images'\n",
    "TEST_DIR = 'C:/Users/Nbsyxx/Desktop/Dophin/input/happy-whale-and-dolphin/test_images'"
   ]
  },
  {
   "cell_type": "code",
   "execution_count": 5,
   "id": "f8034de5",
   "metadata": {},
   "outputs": [
    {
     "data": {
      "text/html": [
       "<style type=\"text/css\">\n",
       "#T_fedf2_ th {\n",
       "  background-color: #add8e6;\n",
       "}\n",
       "</style>\n",
       "<table id=\"T_fedf2_\">\n",
       "  <thead>\n",
       "    <tr>\n",
       "      <th class=\"blank level0\" >&nbsp;</th>\n",
       "      <th class=\"col_heading level0 col0\" >image</th>\n",
       "      <th class=\"col_heading level0 col1\" >species</th>\n",
       "      <th class=\"col_heading level0 col2\" >individual_id</th>\n",
       "    </tr>\n",
       "  </thead>\n",
       "  <tbody>\n",
       "    <tr>\n",
       "      <th id=\"T_fedf2_level0_row0\" class=\"row_heading level0 row0\" >0</th>\n",
       "      <td id=\"T_fedf2_row0_col0\" class=\"data row0 col0\" >00021adfb725ed.jpg</td>\n",
       "      <td id=\"T_fedf2_row0_col1\" class=\"data row0 col1\" >melon_headed_whale</td>\n",
       "      <td id=\"T_fedf2_row0_col2\" class=\"data row0 col2\" >cadddb1636b9</td>\n",
       "    </tr>\n",
       "    <tr>\n",
       "      <th id=\"T_fedf2_level0_row1\" class=\"row_heading level0 row1\" >1</th>\n",
       "      <td id=\"T_fedf2_row1_col0\" class=\"data row1 col0\" >000562241d384d.jpg</td>\n",
       "      <td id=\"T_fedf2_row1_col1\" class=\"data row1 col1\" >humpback_whale</td>\n",
       "      <td id=\"T_fedf2_row1_col2\" class=\"data row1 col2\" >1a71fbb72250</td>\n",
       "    </tr>\n",
       "    <tr>\n",
       "      <th id=\"T_fedf2_level0_row2\" class=\"row_heading level0 row2\" >2</th>\n",
       "      <td id=\"T_fedf2_row2_col0\" class=\"data row2 col0\" >0007c33415ce37.jpg</td>\n",
       "      <td id=\"T_fedf2_row2_col1\" class=\"data row2 col1\" >false_killer_whale</td>\n",
       "      <td id=\"T_fedf2_row2_col2\" class=\"data row2 col2\" >60008f293a2b</td>\n",
       "    </tr>\n",
       "    <tr>\n",
       "      <th id=\"T_fedf2_level0_row3\" class=\"row_heading level0 row3\" >3</th>\n",
       "      <td id=\"T_fedf2_row3_col0\" class=\"data row3 col0\" >0007d9bca26a99.jpg</td>\n",
       "      <td id=\"T_fedf2_row3_col1\" class=\"data row3 col1\" >bottlenose_dolphin</td>\n",
       "      <td id=\"T_fedf2_row3_col2\" class=\"data row3 col2\" >4b00fe572063</td>\n",
       "    </tr>\n",
       "    <tr>\n",
       "      <th id=\"T_fedf2_level0_row4\" class=\"row_heading level0 row4\" >4</th>\n",
       "      <td id=\"T_fedf2_row4_col0\" class=\"data row4 col0\" >00087baf5cef7a.jpg</td>\n",
       "      <td id=\"T_fedf2_row4_col1\" class=\"data row4 col1\" >humpback_whale</td>\n",
       "      <td id=\"T_fedf2_row4_col2\" class=\"data row4 col2\" >8e5253662392</td>\n",
       "    </tr>\n",
       "  </tbody>\n",
       "</table>\n"
      ],
      "text/plain": [
       "<pandas.io.formats.style.Styler at 0x23667ef6310>"
      ]
     },
     "execution_count": 5,
     "metadata": {},
     "output_type": "execute_result"
    }
   ],
   "source": [
    "train_df = pd.read_csv(f\"{ROOT_DIR}/train.csv\")\n",
    "train_df.head().style.set_table_styles(\n",
    "   [{\n",
    "       'selector': 'th',\n",
    "       'props': [('background-color', '#add8e6')]\n",
    "   }])"
   ]
  },
  {
   "cell_type": "code",
   "execution_count": 6,
   "id": "ffa4c2b8",
   "metadata": {},
   "outputs": [
    {
     "data": {
      "text/plain": [
       "15587"
      ]
     },
     "execution_count": 6,
     "metadata": {},
     "output_type": "execute_result"
    }
   ],
   "source": [
    "train_df['individual_id'].nunique()"
   ]
  },
  {
   "cell_type": "code",
   "execution_count": null,
   "id": "70975907",
   "metadata": {},
   "outputs": [],
   "source": [
    "label = [2,5,7,4,2,6,7,5,18,7,5,6,16,21,27,0]"
   ]
  },
  {
   "cell_type": "code",
   "execution_count": 14,
   "id": "c2c9bdad",
   "metadata": {},
   "outputs": [
    {
     "data": {
      "text/plain": [
       "array([[0., 0., 0., 0., 0., 0., 0., 0., 0., 0., 0., 0., 0., 0., 0., 0.,\n",
       "        0., 0., 0., 0., 0., 0., 0., 0., 0., 0., 0., 0.],\n",
       "       [0., 0., 0., 0., 0., 0., 0., 0., 0., 0., 0., 0., 0., 0., 0., 0.,\n",
       "        0., 0., 0., 0., 0., 0., 0., 0., 0., 0., 0., 0.],\n",
       "       [0., 0., 0., 0., 0., 0., 0., 0., 0., 0., 0., 0., 0., 0., 0., 0.,\n",
       "        0., 0., 0., 0., 0., 0., 0., 0., 0., 0., 0., 0.],\n",
       "       [0., 0., 0., 0., 0., 0., 0., 0., 0., 0., 0., 0., 0., 0., 0., 0.,\n",
       "        0., 0., 0., 0., 0., 0., 0., 0., 0., 0., 0., 0.],\n",
       "       [0., 0., 0., 0., 0., 0., 0., 0., 0., 0., 0., 0., 0., 0., 0., 0.,\n",
       "        0., 0., 0., 0., 0., 0., 0., 0., 0., 0., 0., 0.],\n",
       "       [0., 0., 0., 0., 0., 0., 0., 0., 0., 0., 0., 0., 0., 0., 0., 0.,\n",
       "        0., 0., 0., 0., 0., 0., 0., 0., 0., 0., 0., 0.],\n",
       "       [0., 0., 0., 0., 0., 0., 0., 0., 0., 0., 0., 0., 0., 0., 0., 0.,\n",
       "        0., 0., 0., 0., 0., 0., 0., 0., 0., 0., 0., 0.],\n",
       "       [0., 0., 0., 0., 0., 0., 0., 0., 0., 0., 0., 0., 0., 0., 0., 0.,\n",
       "        0., 0., 0., 0., 0., 0., 0., 0., 0., 0., 0., 0.],\n",
       "       [0., 0., 0., 0., 0., 0., 0., 0., 0., 0., 0., 0., 0., 0., 0., 0.,\n",
       "        0., 0., 0., 0., 0., 0., 0., 0., 0., 0., 0., 0.],\n",
       "       [0., 0., 0., 0., 0., 0., 0., 0., 0., 0., 0., 0., 0., 0., 0., 0.,\n",
       "        0., 0., 0., 0., 0., 0., 0., 0., 0., 0., 0., 0.],\n",
       "       [0., 0., 0., 0., 0., 0., 0., 0., 0., 0., 0., 0., 0., 0., 0., 0.,\n",
       "        0., 0., 0., 0., 0., 0., 0., 0., 0., 0., 0., 0.],\n",
       "       [0., 0., 0., 0., 0., 0., 0., 0., 0., 0., 0., 0., 0., 0., 0., 0.,\n",
       "        0., 0., 0., 0., 0., 0., 0., 0., 0., 0., 0., 0.],\n",
       "       [0., 0., 0., 0., 0., 0., 0., 0., 0., 0., 0., 0., 0., 0., 0., 0.,\n",
       "        0., 0., 0., 0., 0., 0., 0., 0., 0., 0., 0., 0.],\n",
       "       [0., 0., 0., 0., 0., 0., 0., 0., 0., 0., 0., 0., 0., 0., 0., 0.,\n",
       "        0., 0., 0., 0., 0., 0., 0., 0., 0., 0., 0., 0.],\n",
       "       [0., 0., 0., 0., 0., 0., 0., 0., 0., 0., 0., 0., 0., 0., 0., 0.,\n",
       "        0., 0., 0., 0., 0., 0., 0., 0., 0., 0., 0., 0.],\n",
       "       [0., 0., 0., 0., 0., 0., 0., 0., 0., 0., 0., 0., 0., 0., 0., 0.,\n",
       "        0., 0., 0., 0., 0., 0., 0., 0., 0., 0., 0., 0.]])"
      ]
     },
     "execution_count": 14,
     "metadata": {},
     "output_type": "execute_result"
    }
   ],
   "source": [
    "batch = np.zeros((16,28))\n",
    "for i in"
   ]
  },
  {
   "cell_type": "code",
   "execution_count": 15,
   "id": "65291714",
   "metadata": {},
   "outputs": [],
   "source": [
    "outputs = np.random.rand(16,28)\n"
   ]
  },
  {
   "cell_type": "code",
   "execution_count": 16,
   "id": "88cd1b35",
   "metadata": {},
   "outputs": [
    {
     "data": {
      "text/plain": [
       "array([ 0,  3,  9, 23, 13,  8,  6,  7,  5,  1,  0,  1,  7, 18, 15, 19],\n",
       "      dtype=int64)"
      ]
     },
     "execution_count": 16,
     "metadata": {},
     "output_type": "execute_result"
    }
   ],
   "source": [
    "np.argmax(outputs,axis=1)"
   ]
  },
  {
   "cell_type": "code",
   "execution_count": null,
   "id": "c475f309",
   "metadata": {},
   "outputs": [],
   "source": []
  }
 ],
 "metadata": {
  "kernelspec": {
   "display_name": "Python 3 (ipykernel)",
   "language": "python",
   "name": "python3"
  },
  "language_info": {
   "codemirror_mode": {
    "name": "ipython",
    "version": 3
   },
   "file_extension": ".py",
   "mimetype": "text/x-python",
   "name": "python",
   "nbconvert_exporter": "python",
   "pygments_lexer": "ipython3",
   "version": "3.9.7"
  }
 },
 "nbformat": 4,
 "nbformat_minor": 5
}
