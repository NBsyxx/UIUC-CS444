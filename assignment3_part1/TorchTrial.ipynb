{
 "cells": [
  {
   "cell_type": "code",
   "execution_count": 2,
   "id": "0413cc79",
   "metadata": {},
   "outputs": [],
   "source": [
    "import os\n",
    "import numpy as np\n",
    "import torch\n",
    "import torch.nn as nn\n",
    "import torchvision\n",
    "\n",
    "from torchvision import transforms\n",
    "from sklearn.metrics import average_precision_score\n",
    "from PIL import Image, ImageDraw\n",
    "import matplotlib.pyplot as plt\n",
    "from kaggle_submission import output_submission_csv\n",
    "from classifier import SimpleClassifier, Classifier#, AlexNet\n",
    "from voc_dataloader import VocDataset, VOC_CLASSES\n",
    "\n",
    "%matplotlib inline\n",
    "%load_ext autoreload\n",
    "%autoreload 2"
   ]
  },
  {
   "cell_type": "code",
   "execution_count": 3,
   "id": "e46bbf2c",
   "metadata": {},
   "outputs": [
    {
     "data": {
      "text/plain": [
       "tensor([[0.0898, 0.7925, 0.7235],\n",
       "        [0.9800, 0.2232, 0.5986],\n",
       "        [0.5435, 0.0565, 0.3281],\n",
       "        [0.0263, 0.1573, 0.0986],\n",
       "        [0.2740, 0.2347, 0.7344]])"
      ]
     },
     "execution_count": 3,
     "metadata": {},
     "output_type": "execute_result"
    }
   ],
   "source": [
    "x = torch.rand(5,3)\n",
    "x\n"
   ]
  },
  {
   "cell_type": "code",
   "execution_count": 4,
   "id": "1f32bab7",
   "metadata": {},
   "outputs": [
    {
     "data": {
      "text/plain": [
       "torch.float32"
      ]
     },
     "execution_count": 4,
     "metadata": {},
     "output_type": "execute_result"
    }
   ],
   "source": [
    "torch.tensor([1.3,2,3]).dtype"
   ]
  },
  {
   "cell_type": "code",
   "execution_count": 5,
   "id": "908896f6",
   "metadata": {},
   "outputs": [
    {
     "data": {
      "text/plain": [
       "tensor([[[0., 0., 0., 0., 0., 0.],\n",
       "         [0., 0., 0., 0., 0., 0.],\n",
       "         [0., 0., 0., 0., 0., 0.],\n",
       "         [0., 0., 0., 0., 0., 0.],\n",
       "         [0., 0., 0., 0., 0., 0.]],\n",
       "\n",
       "        [[0., 0., 0., 0., 0., 0.],\n",
       "         [0., 0., 0., 0., 0., 0.],\n",
       "         [0., 0., 0., 0., 0., 0.],\n",
       "         [0., 0., 0., 0., 0., 0.],\n",
       "         [0., 0., 0., 0., 0., 0.]],\n",
       "\n",
       "        [[0., 0., 0., 0., 0., 0.],\n",
       "         [0., 0., 0., 0., 0., 0.],\n",
       "         [0., 0., 0., 0., 0., 0.],\n",
       "         [0., 0., 0., 0., 0., 0.],\n",
       "         [0., 0., 0., 0., 0., 0.]],\n",
       "\n",
       "        [[0., 0., 0., 0., 0., 0.],\n",
       "         [0., 0., 0., 0., 0., 0.],\n",
       "         [0., 0., 0., 0., 0., 0.],\n",
       "         [0., 0., 0., 0., 0., 0.],\n",
       "         [0., 0., 0., 0., 0., 0.]]])"
      ]
     },
     "execution_count": 5,
     "metadata": {},
     "output_type": "execute_result"
    }
   ],
   "source": [
    "torch.zeros(4,5,6)"
   ]
  },
  {
   "cell_type": "code",
   "execution_count": 6,
   "id": "28cd40e7",
   "metadata": {},
   "outputs": [
    {
     "data": {
      "text/plain": [
       "tensor([[1., 1., 1., 1., 1., 1., 1., 1.],\n",
       "        [1., 1., 1., 1., 1., 1., 1., 1.],\n",
       "        [1., 1., 1., 1., 1., 1., 1., 1.],\n",
       "        [1., 1., 1., 1., 1., 1., 1., 1.],\n",
       "        [1., 1., 1., 1., 1., 1., 1., 1.]])"
      ]
     },
     "execution_count": 6,
     "metadata": {},
     "output_type": "execute_result"
    }
   ],
   "source": [
    "x.new_ones(5,8)"
   ]
  },
  {
   "cell_type": "code",
   "execution_count": 7,
   "id": "f5f030d1",
   "metadata": {},
   "outputs": [
    {
     "data": {
      "text/plain": [
       "tensor([[0, 0, 0],\n",
       "        [0, 0, 0],\n",
       "        [0, 0, 0],\n",
       "        [0, 0, 0],\n",
       "        [0, 0, 0]], dtype=torch.int8)"
      ]
     },
     "execution_count": 7,
     "metadata": {},
     "output_type": "execute_result"
    }
   ],
   "source": [
    "x = x.to(dtype=torch.int8)\n",
    "x"
   ]
  },
  {
   "cell_type": "code",
   "execution_count": 8,
   "id": "a67ca528",
   "metadata": {},
   "outputs": [
    {
     "data": {
      "text/plain": [
       "tensor([[0, 0, 1, 0, 0, 1, 1],\n",
       "        [1, 1, 0, 0, 0, 1, 0],\n",
       "        [0, 0, 0, 1, 0, 0, 0],\n",
       "        [1, 1, 1, 1, 0, 1, 1]], dtype=torch.int8)"
      ]
     },
     "execution_count": 8,
     "metadata": {},
     "output_type": "execute_result"
    }
   ],
   "source": [
    "x = torch.rand(4,7)\n",
    "y = torch.rand(4,7)\n",
    "x+y\n",
    "torch.add(x,y).to(dtype=torch.int8)"
   ]
  },
  {
   "cell_type": "code",
   "execution_count": 9,
   "id": "004b4a77",
   "metadata": {},
   "outputs": [
    {
     "data": {
      "text/plain": [
       "tensor([[0.4821, 0.4851, 1.5130, 0.3849, 0.6817, 1.0579, 1.7308],\n",
       "        [1.0018, 1.6768, 0.9388, 0.7442, 0.6886, 1.4887, 0.8832],\n",
       "        [0.9528, 0.7525, 0.4577, 1.4988, 0.5220, 0.7319, 0.7235],\n",
       "        [1.2408, 1.0052, 1.0551, 1.2943, 0.3265, 1.1430, 1.3055]])"
      ]
     },
     "execution_count": 9,
     "metadata": {},
     "output_type": "execute_result"
    }
   ],
   "source": [
    "y.add(x)"
   ]
  },
  {
   "cell_type": "code",
   "execution_count": 10,
   "id": "3fdc0f35",
   "metadata": {},
   "outputs": [
    {
     "data": {
      "text/plain": [
       "tensor([[0.0646, 0.3498, 0.9034, 0.1877, 0.3482, 0.2686, 0.7418],\n",
       "        [0.0556, 0.7576, 0.2908, 0.3551, 0.4086, 0.5010, 0.2246],\n",
       "        [0.1010, 0.5699, 0.2012, 0.7336, 0.0799, 0.0398, 0.0084],\n",
       "        [0.5636, 0.3671, 0.0736, 0.7285, 0.0273, 0.6426, 0.4693]])"
      ]
     },
     "execution_count": 10,
     "metadata": {},
     "output_type": "execute_result"
    }
   ],
   "source": [
    "y"
   ]
  },
  {
   "cell_type": "code",
   "execution_count": 11,
   "id": "3ff8ecb8",
   "metadata": {},
   "outputs": [
    {
     "data": {
      "text/plain": [
       "tensor([[0.4821, 0.4851, 1.5130, 0.3849, 0.6817, 1.0579, 1.7308],\n",
       "        [1.0018, 1.6768, 0.9388, 0.7442, 0.6886, 1.4887, 0.8832],\n",
       "        [0.9528, 0.7525, 0.4577, 1.4988, 0.5220, 0.7319, 0.7235],\n",
       "        [1.2408, 1.0052, 1.0551, 1.2943, 0.3265, 1.1430, 1.3055]])"
      ]
     },
     "execution_count": 11,
     "metadata": {},
     "output_type": "execute_result"
    }
   ],
   "source": [
    "y.add_(x)"
   ]
  },
  {
   "cell_type": "code",
   "execution_count": 12,
   "id": "284d3e4e",
   "metadata": {},
   "outputs": [
    {
     "data": {
      "text/plain": [
       "tensor([[0.4821, 0.4851, 1.5130, 0.3849, 0.6817, 1.0579, 1.7308],\n",
       "        [1.0018, 1.6768, 0.9388, 0.7442, 0.6886, 1.4887, 0.8832],\n",
       "        [0.9528, 0.7525, 0.4577, 1.4988, 0.5220, 0.7319, 0.7235],\n",
       "        [1.2408, 1.0052, 1.0551, 1.2943, 0.3265, 1.1430, 1.3055]])"
      ]
     },
     "execution_count": 12,
     "metadata": {},
     "output_type": "execute_result"
    }
   ],
   "source": [
    "y"
   ]
  },
  {
   "cell_type": "code",
   "execution_count": 13,
   "id": "15541587",
   "metadata": {},
   "outputs": [
    {
     "data": {
      "text/plain": [
       "tensor([[-0.4821, -0.4851, -1.5130, -0.3849, -0.6817, -1.0579, -1.7308],\n",
       "        [-1.0018, -1.6768, -0.9388, -0.7442, -0.6886, -1.4887, -0.8832],\n",
       "        [-0.9528, -0.7525, -0.4577, -1.4988, -0.5220, -0.7319, -0.7235],\n",
       "        [-1.2408, -1.0052, -1.0551, -1.2943, -0.3265, -1.1430, -1.3055]])"
      ]
     },
     "execution_count": 13,
     "metadata": {},
     "output_type": "execute_result"
    }
   ],
   "source": [
    "-y"
   ]
  },
  {
   "cell_type": "code",
   "execution_count": 14,
   "id": "f12338a8",
   "metadata": {},
   "outputs": [
    {
     "data": {
      "text/plain": [
       "tensor([[0.9337, 1.4603],\n",
       "        [1.3265, 1.4912],\n",
       "        [1.0971, 0.2709],\n",
       "        [0.5387, 0.3681],\n",
       "        [1.4073, 1.0540]])"
      ]
     },
     "execution_count": 14,
     "metadata": {},
     "output_type": "execute_result"
    }
   ],
   "source": [
    "x = torch.rand(5,2)\n",
    "y = torch.rand(5,1)\n",
    "\n",
    "x + y"
   ]
  },
  {
   "cell_type": "code",
   "execution_count": 15,
   "id": "563b5743",
   "metadata": {},
   "outputs": [
    {
     "data": {
      "text/plain": [
       "tensor([[0.3092, 0.8358],\n",
       "        [0.4384, 0.6032],\n",
       "        [0.9913, 0.1650],\n",
       "        [0.2814, 0.1108],\n",
       "        [0.6264, 0.2731]])"
      ]
     },
     "execution_count": 15,
     "metadata": {},
     "output_type": "execute_result"
    }
   ],
   "source": [
    "x"
   ]
  },
  {
   "cell_type": "code",
   "execution_count": 16,
   "id": "fbca8cf4",
   "metadata": {},
   "outputs": [
    {
     "data": {
      "text/plain": [
       "tensor([[0.6245],\n",
       "        [0.8881],\n",
       "        [0.1059],\n",
       "        [0.2572],\n",
       "        [0.7809]])"
      ]
     },
     "execution_count": 16,
     "metadata": {},
     "output_type": "execute_result"
    }
   ],
   "source": [
    "y"
   ]
  },
  {
   "cell_type": "code",
   "execution_count": 17,
   "id": "5be568af",
   "metadata": {},
   "outputs": [],
   "source": [
    "x = torch.randn(4,4)"
   ]
  },
  {
   "cell_type": "code",
   "execution_count": 18,
   "id": "8ae540df",
   "metadata": {},
   "outputs": [
    {
     "data": {
      "text/plain": [
       "tensor([-1.5237, -0.4292, -0.3865,  0.1526,  2.3103,  0.3731, -0.3461,  1.4719,\n",
       "        -0.1791,  1.0314, -0.0318,  1.9965,  2.1557,  0.0990,  0.2684,  0.2361])"
      ]
     },
     "execution_count": 18,
     "metadata": {},
     "output_type": "execute_result"
    }
   ],
   "source": [
    "x.view(16)"
   ]
  },
  {
   "cell_type": "code",
   "execution_count": 19,
   "id": "1d2133d1",
   "metadata": {},
   "outputs": [
    {
     "data": {
      "text/plain": [
       "tensor([[-1.5237, -0.4292, -0.3865,  0.1526,  2.3103,  0.3731, -0.3461,  1.4719],\n",
       "        [-0.1791,  1.0314, -0.0318,  1.9965,  2.1557,  0.0990,  0.2684,  0.2361]])"
      ]
     },
     "execution_count": 19,
     "metadata": {},
     "output_type": "execute_result"
    }
   ],
   "source": [
    "x.view(-1,8)"
   ]
  },
  {
   "cell_type": "code",
   "execution_count": 20,
   "id": "1b2f9932",
   "metadata": {},
   "outputs": [
    {
     "data": {
      "text/plain": [
       "tensor([[-1.5237, -0.4292, -0.3865,  0.1526,  2.3103,  0.3731, -0.3461,  1.4719],\n",
       "        [-0.1791,  1.0314, -0.0318,  1.9965,  2.1557,  0.0990,  0.2684,  0.2361]])"
      ]
     },
     "execution_count": 20,
     "metadata": {},
     "output_type": "execute_result"
    }
   ],
   "source": [
    "x.view(2,8)"
   ]
  },
  {
   "cell_type": "code",
   "execution_count": 41,
   "id": "99847c04",
   "metadata": {},
   "outputs": [
    {
     "name": "stdout",
     "output_type": "stream",
     "text": [
      "Collecting package metadata (current_repodata.json): ...working... done\n",
      "Solving environment: ...working... done\n",
      "\n",
      "# All requested packages already installed.\n",
      "\n",
      "\n",
      "Note: you may need to restart the kernel to use updated packages.\n"
     ]
    }
   ],
   "source": [
    "conda install -c anaconda cudatoolkit"
   ]
  },
  {
   "cell_type": "markdown",
   "id": "da2ca3c3",
   "metadata": {},
   "source": [
    "x.reshape(2,8)"
   ]
  },
  {
   "cell_type": "code",
   "execution_count": 22,
   "id": "948f819d",
   "metadata": {
    "scrolled": true
   },
   "outputs": [
    {
     "name": "stdout",
     "output_type": "stream",
     "text": [
      "Wed Mar 30 22:19:43 2022       \n",
      "+-----------------------------------------------------------------------------+\n",
      "| NVIDIA-SMI 471.41       Driver Version: 471.41       CUDA Version: 11.4     |\n",
      "|-------------------------------+----------------------+----------------------+\n",
      "| GPU  Name            TCC/WDDM | Bus-Id        Disp.A | Volatile Uncorr. ECC |\n",
      "| Fan  Temp  Perf  Pwr:Usage/Cap|         Memory-Usage | GPU-Util  Compute M. |\n",
      "|                               |                      |               MIG M. |\n",
      "|===============================+======================+======================|\n",
      "|   0  NVIDIA GeForce ... WDDM  | 00000000:01:00.0  On |                  N/A |\n",
      "| N/A   54C    P8    14W /  N/A |   4980MiB /  6144MiB |      0%      Default |\n",
      "|                               |                      |                  N/A |\n",
      "+-------------------------------+----------------------+----------------------+\n",
      "                                                                               \n",
      "+-----------------------------------------------------------------------------+\n",
      "| Processes:                                                                  |\n",
      "|  GPU   GI   CI        PID   Type   Process name                  GPU Memory |\n",
      "|        ID   ID                                                   Usage      |\n",
      "|=============================================================================|\n",
      "|    0   N/A  N/A      1480    C+G   Insufficient Permissions        N/A      |\n",
      "|    0   N/A  N/A      2348    C+G   Insufficient Permissions        N/A      |\n",
      "|    0   N/A  N/A      3032    C+G   ...Battle.net\\Battle.net.exe    N/A      |\n",
      "|    0   N/A  N/A      6720    C+G   C:\\Windows\\explorer.exe         N/A      |\n",
      "|    0   N/A  N/A      8028    C+G   ...2txyewy\\TextInputHost.exe    N/A      |\n",
      "|    0   N/A  N/A      8664    C+G   ...5n1h2txyewy\\SearchApp.exe    N/A      |\n",
      "|    0   N/A  N/A      8812    C+G   ...artMenuExperienceHost.exe    N/A      |\n",
      "|    0   N/A  N/A      9532    C+G   ...ekyb3d8bbwe\\YourPhone.exe    N/A      |\n",
      "|    0   N/A  N/A     10764    C+G   ...2gh52qy24etm\\Nahimic3.exe    N/A      |\n",
      "|    0   N/A  N/A     12492    C+G   ...y\\ShellExperienceHost.exe    N/A      |\n",
      "|    0   N/A  N/A     14176    C+G   ...t\\Teams\\current\\Teams.exe    N/A      |\n",
      "|    0   N/A  N/A     15620    C+G   ...me\\Application\\chrome.exe    N/A      |\n",
      "|    0   N/A  N/A     16424    C+G   ...4__8j3eq9eme6ctt\\IGCC.exe    N/A      |\n",
      "|    0   N/A  N/A     16912    C+G   ...t\\Teams\\current\\Teams.exe    N/A      |\n",
      "|    0   N/A  N/A     18164    C+G   ...5n1h2txyewy\\SearchApp.exe    N/A      |\n",
      "|    0   N/A  N/A     18168    C+G   ...h8wxbdkxb8p\\DCv2\\DCv2.exe    N/A      |\n",
      "|    0   N/A  N/A     18760      C   ...syxx\\anaconda3\\python.exe    N/A      |\n",
      "|    0   N/A  N/A     19144    C+G   ...bbwe\\Microsoft.Photos.exe    N/A      |\n",
      "|    0   N/A  N/A     19468    C+G   ...lPanel\\SystemSettings.exe    N/A      |\n",
      "|    0   N/A  N/A     24996    C+G   ...icrosoft VS Code\\Code.exe    N/A      |\n",
      "+-----------------------------------------------------------------------------+\n"
     ]
    }
   ],
   "source": [
    "if torch.cuda.is_available():\n",
    "    !nvidia-smi"
   ]
  },
  {
   "cell_type": "code",
   "execution_count": 23,
   "id": "d6ea16a5",
   "metadata": {},
   "outputs": [
    {
     "name": "stdout",
     "output_type": "stream",
     "text": [
      "tensor([[-0.5237,  0.5708,  0.6135,  1.1526],\n",
      "        [ 3.3103,  1.3731,  0.6539,  2.4719],\n",
      "        [ 0.8209,  2.0314,  0.9682,  2.9965],\n",
      "        [ 3.1557,  1.0990,  1.2684,  1.2361]], device='cuda:0')\n",
      "tensor([[-0.5237,  0.5708,  0.6135,  1.1526],\n",
      "        [ 3.3103,  1.3731,  0.6539,  2.4719],\n",
      "        [ 0.8209,  2.0314,  0.9682,  2.9965],\n",
      "        [ 3.1557,  1.0990,  1.2684,  1.2361]], dtype=torch.float64)\n"
     ]
    }
   ],
   "source": [
    "if torch.cuda.is_available():\n",
    "    device = torch.device(\"cuda\")\n",
    "    y = torch.ones_like(x,device = device)\n",
    "    x = x.to(device)\n",
    "    z = x + y\n",
    "    print(z)\n",
    "    print(z.to(\"cpu\",torch.double))"
   ]
  },
  {
   "cell_type": "code",
   "execution_count": 26,
   "id": "fd4f5929",
   "metadata": {},
   "outputs": [
    {
     "data": {
      "text/plain": [
       "tensor([[1., 1.],\n",
       "        [1., 1.]], requires_grad=True)"
      ]
     },
     "execution_count": 26,
     "metadata": {},
     "output_type": "execute_result"
    }
   ],
   "source": [
    "# automated differnetiation\n",
    "x = torch.ones(2,2,requires_grad=True)\n",
    "x"
   ]
  },
  {
   "cell_type": "code",
   "execution_count": 35,
   "id": "2babb30a",
   "metadata": {
    "scrolled": true
   },
   "outputs": [
    {
     "data": {
      "text/plain": [
       "tensor([[20., 20.],\n",
       "        [20., 20.]], grad_fn=<AddBackward0>)"
      ]
     },
     "execution_count": 35,
     "metadata": {},
     "output_type": "execute_result"
    }
   ],
   "source": [
    "y = x*(x + 2 + x *7)\n",
    "z = y + y\n",
    "z"
   ]
  },
  {
   "cell_type": "code",
   "execution_count": 31,
   "id": "4c354605",
   "metadata": {},
   "outputs": [
    {
     "data": {
      "text/plain": [
       "False"
      ]
     },
     "execution_count": 31,
     "metadata": {},
     "output_type": "execute_result"
    }
   ],
   "source": [
    "a = torch.rand(5,6)\n",
    "a.requires_grad"
   ]
  },
  {
   "cell_type": "code",
   "execution_count": 39,
   "id": "0b765052",
   "metadata": {},
   "outputs": [
    {
     "name": "stdout",
     "output_type": "stream",
     "text": [
      "None\n"
     ]
    }
   ],
   "source": [
    "print(y.grad)"
   ]
  },
  {
   "cell_type": "code",
   "execution_count": 47,
   "id": "0609525b",
   "metadata": {},
   "outputs": [
    {
     "name": "stdout",
     "output_type": "stream",
     "text": [
      "tensor([[ 99.5037, 332.5784, 384.9811,   9.4921, 246.0810, 121.6165, 225.7818],\n",
      "        [  5.0806,  22.7139, 454.3484, 284.6530, 260.5345,  57.7639, 109.0172],\n",
      "        [ 12.6169,  60.3246, 478.0029, 478.8306, 453.1118, 165.2356, 177.9507],\n",
      "        [400.6879, 403.0247, 399.9465, 304.6674, 454.6248, 234.0269,  76.7852]],\n",
      "       grad_fn=<MulBackward0>)\n"
     ]
    }
   ],
   "source": [
    "x = torch.rand(4,7,requires_grad=True)\n",
    "y = x * 2\n",
    "while y.data.norm() < 1000:\n",
    "    y = y *2\n",
    "print(y)"
   ]
  },
  {
   "cell_type": "code",
   "execution_count": 48,
   "id": "9e78801e",
   "metadata": {},
   "outputs": [
    {
     "name": "stdout",
     "output_type": "stream",
     "text": [
      "None\n"
     ]
    },
    {
     "name": "stderr",
     "output_type": "stream",
     "text": [
      "C:\\Users\\Nbsyxx\\anaconda3\\lib\\site-packages\\torch\\_tensor.py:1104: UserWarning: The .grad attribute of a Tensor that is not a leaf Tensor is being accessed. Its .grad attribute won't be populated during autograd.backward(). If you indeed want the .grad field to be populated for a non-leaf Tensor, use .retain_grad() on the non-leaf Tensor. If you access the non-leaf Tensor by mistake, make sure you access the leaf Tensor instead. See github.com/pytorch/pytorch/pull/30531 for more informations. (Triggered internally at  C:\\cb\\pytorch_1000000000000\\work\\build\\aten\\src\\ATen/core/TensorBody.h:475.)\n",
      "  return self._grad\n"
     ]
    }
   ],
   "source": [
    "print(y.grad)"
   ]
  },
  {
   "cell_type": "code",
   "execution_count": 49,
   "id": "b75d84ec",
   "metadata": {},
   "outputs": [],
   "source": [
    "gradient = torch.rand(4,7)"
   ]
  },
  {
   "cell_type": "code",
   "execution_count": 51,
   "id": "2fd47849",
   "metadata": {},
   "outputs": [
    {
     "name": "stdout",
     "output_type": "stream",
     "text": [
      "None\n"
     ]
    }
   ],
   "source": [
    "print(x.grad)"
   ]
  },
  {
   "cell_type": "code",
   "execution_count": 52,
   "id": "84bbb7be",
   "metadata": {},
   "outputs": [],
   "source": [
    "y.backward(gradient)"
   ]
  },
  {
   "cell_type": "code",
   "execution_count": 53,
   "id": "e784d925",
   "metadata": {},
   "outputs": [
    {
     "data": {
      "text/plain": [
       "tensor([[154.1935, 156.7552, 116.2405, 296.5452, 251.5618, 335.6506, 382.8904],\n",
       "        [171.6852,  39.9842, 113.3427, 209.6156, 174.8719, 297.6234, 336.6946],\n",
       "        [ 21.8764, 352.8730, 177.1976,  68.7212, 106.8423, 106.8274, 115.4985],\n",
       "        [342.7648,  81.9271, 137.6261, 213.2461,  52.4958, 108.7299, 275.6191]])"
      ]
     },
     "execution_count": 53,
     "metadata": {},
     "output_type": "execute_result"
    }
   ],
   "source": [
    "x.grad"
   ]
  },
  {
   "cell_type": "code",
   "execution_count": null,
   "id": "5caec625",
   "metadata": {},
   "outputs": [],
   "source": []
  }
 ],
 "metadata": {
  "kernelspec": {
   "display_name": "Python 3 (ipykernel)",
   "language": "python",
   "name": "python3"
  },
  "language_info": {
   "codemirror_mode": {
    "name": "ipython",
    "version": 3
   },
   "file_extension": ".py",
   "mimetype": "text/x-python",
   "name": "python",
   "nbconvert_exporter": "python",
   "pygments_lexer": "ipython3",
   "version": "3.9.7"
  }
 },
 "nbformat": 4,
 "nbformat_minor": 5
}
